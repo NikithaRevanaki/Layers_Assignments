{
 "cells": [
  {
   "cell_type": "code",
   "execution_count": 1,
   "id": "28fc432b",
   "metadata": {},
   "outputs": [
    {
     "name": "stdout",
     "output_type": "stream",
     "text": [
      "pYThon\n",
      "PytHON\n"
     ]
    }
   ],
   "source": [
    "#Swap Case\n",
    "def swap_case(s):\n",
    "    return s.swapcase()\n",
    "    \n",
    "    \n",
    "if __name__ == '__main__':\n",
    "    s = input()\n",
    "    result = swap_case(s)\n",
    "    print(result)"
   ]
  },
  {
   "cell_type": "code",
   "execution_count": 1,
   "id": "f4cb6ffa",
   "metadata": {},
   "outputs": [
    {
     "name": "stdout",
     "output_type": "stream",
     "text": [
      "this is a string\n",
      "this-is-a-string\n"
     ]
    }
   ],
   "source": [
    "#String Split and join\n",
    "def split_and_join(line):\n",
    "    line=line.split(\" \")\n",
    "    line=\"-\".join(line)\n",
    "    return line\n",
    "\n",
    "\n",
    "if __name__ == '__main__':\n",
    "    line = input()\n",
    "    result = split_and_join(line)\n",
    "    print(result)"
   ]
  },
  {
   "cell_type": "code",
   "execution_count": 2,
   "id": "c8d15189",
   "metadata": {},
   "outputs": [
    {
     "name": "stdout",
     "output_type": "stream",
     "text": [
      "Nikitha\n",
      "Revanaki\n",
      "Hello Nikitha Revanaki! You just delved into python.\n"
     ]
    }
   ],
   "source": [
    "#What's your Name?\n",
    "def print_full_name(first, last):\n",
    "    print(\"Hello {} {}! You just delved into python.\".format(first,last))\n",
    "    # Write your code here\n",
    "\n",
    "if __name__ == '__main__':\n",
    "    first_name = input()\n",
    "    last_name = input()\n",
    "    print_full_name(first_name, last_name)\n"
   ]
  },
  {
   "cell_type": "code",
   "execution_count": 3,
   "id": "74c1b81a",
   "metadata": {},
   "outputs": [
    {
     "name": "stdout",
     "output_type": "stream",
     "text": [
      "abracadabra\n",
      "5 k\n",
      "abrackdabra\n"
     ]
    }
   ],
   "source": [
    "#Mutations\n",
    "def mutate_string(string, position, character):\n",
    "    a=list(string)\n",
    "    a[position]=character\n",
    "    string=''.join(a)\n",
    "    return string\n",
    "\n",
    "if __name__ == '__main__':\n",
    "    s = input()\n",
    "    i, c = input().split()\n",
    "    s_new = mutate_string(s, int(i), c)\n",
    "    print(s_new)"
   ]
  },
  {
   "cell_type": "code",
   "execution_count": 7,
   "id": "5f172ddb",
   "metadata": {},
   "outputs": [
    {
     "name": "stdout",
     "output_type": "stream",
     "text": [
      "ABCDCDC\n",
      "CDC\n",
      "2\n"
     ]
    }
   ],
   "source": [
    "#Find a String\n",
    "def count_substring(string, sub_string):\n",
    "    count=0\n",
    "    for i in range(len(string)-len(sub_string)+1):\n",
    "       if(string[i:i+len(sub_string)]==sub_string):\n",
    "        count=count+1\n",
    "    return count\n",
    "\n",
    "if __name__ == '__main__':\n",
    "    string = input().strip()\n",
    "    sub_string = input().strip()\n",
    "    \n",
    "    count = count_substring(string, sub_string)\n",
    "    print(count)"
   ]
  },
  {
   "cell_type": "code",
   "execution_count": 8,
   "id": "3a64e52e",
   "metadata": {},
   "outputs": [
    {
     "name": "stdout",
     "output_type": "stream",
     "text": [
      "qA2\n",
      "True\n",
      "True\n",
      "True\n",
      "True\n",
      "True\n"
     ]
    }
   ],
   "source": [
    "#String Validators\n",
    "if __name__ == '__main__':\n",
    "    s = input()\n",
    "    print(any(a.isalnum() for a in s))\n",
    "    print(any(a.isalpha() for a in s))\n",
    "    print(any(a.isdigit() for a in s))\n",
    "    print(any(a.islower() for a in s))\n",
    "    print(any(a.isupper() for a in s))"
   ]
  },
  {
   "cell_type": "code",
   "execution_count": 10,
   "id": "364a9845",
   "metadata": {},
   "outputs": [
    {
     "name": "stdout",
     "output_type": "stream",
     "text": [
      "3\n",
      "  H  \n",
      " HHH \n",
      "HHHHH\n",
      " HHH         HHH        \n",
      " HHH         HHH        \n",
      " HHH         HHH        \n",
      " HHH         HHH        \n",
      " HHHHHHHHHHHHHHH  \n",
      " HHHHHHHHHHHHHHH  \n",
      " HHH         HHH        \n",
      " HHH         HHH        \n",
      " HHH         HHH        \n",
      " HHH         HHH        \n",
      "            HHHHH \n",
      "             HHH  \n",
      "              H   \n"
     ]
    }
   ],
   "source": [
    "#Text Alignment\n",
    "thickness = int(input()) #This must be an odd number\n",
    "c = 'H'\n",
    "\n",
    "#Top Cone\n",
    "for i in range(thickness):\n",
    "    print((c*i).rjust(thickness-1)+c+(c*i).ljust(thickness-1))\n",
    "\n",
    "#Top Pillars\n",
    "for i in range(thickness+1):\n",
    "    print((c*thickness).center(thickness*2)+(c*thickness).center(thickness*6))\n",
    "\n",
    "#Middle Belt\n",
    "for i in range((thickness+1)//2):\n",
    "    print((c*thickness*5).center(thickness*6))    \n",
    "\n",
    "#Bottom Pillars\n",
    "for i in range(thickness+1):\n",
    "    print((c*thickness).center(thickness*2)+(c*thickness).center(thickness*6))    \n",
    "\n",
    "#Bottom Cone\n",
    "for i in range(thickness):\n",
    "    print(((c*(thickness-i-1)).rjust(thickness)+c+(c*(thickness-i-1)).ljust(thickness)).rjust(thickness*6))"
   ]
  },
  {
   "cell_type": "code",
   "execution_count": 12,
   "id": "8c259c65",
   "metadata": {},
   "outputs": [
    {
     "name": "stdout",
     "output_type": "stream",
     "text": [
      "ABCDEFGHIJKLMNOPQRSTUVWXYZ\n",
      "4\n",
      "ABCD\n",
      "EFGH\n",
      "IJKL\n",
      "MNOP\n",
      "QRST\n",
      "UVWX\n",
      "YZ\n"
     ]
    }
   ],
   "source": [
    "#Text Wrap\n",
    "import textwrap\n",
    "\n",
    "def wrap(string, max_width):\n",
    "    wrapper=textwrap.TextWrapper(width=max_width)\n",
    "    dedented_text=textwrap.dedent(text=string)\n",
    "    result=wrapper.fill(text=dedented_text)\n",
    "    return result\n",
    "\n",
    "if __name__ == '__main__':\n",
    "    string, max_width = input(), int(input())\n",
    "    result = wrap(string, max_width)\n",
    "    print(result)"
   ]
  },
  {
   "cell_type": "code",
   "execution_count": 15,
   "id": "51846d2c",
   "metadata": {},
   "outputs": [
    {
     "name": "stdout",
     "output_type": "stream",
     "text": [
      "7 21\n",
      "---------.|.---------\n",
      "------.|..|..|.------\n",
      "---.|..|..|..|..|.---\n",
      "-------WELCOME-------\n",
      "---.|..|..|..|..|.---\n",
      "------.|..|..|.------\n",
      "---------.|.---------\n"
     ]
    }
   ],
   "source": [
    "#Designer Door Mat\n",
    "N, M=map(int, input().split())\n",
    "for i in range(1,N, 2):\n",
    "    print(str('.|.'*i).center(M, '-'))\n",
    "print('WELCOME'.center(M, '-'))\n",
    "for i in range(N-2,-1, -2):\n",
    "    print(str('.|.'*i).center(M, '-'))"
   ]
  },
  {
   "cell_type": "code",
   "execution_count": 16,
   "id": "eb264236",
   "metadata": {},
   "outputs": [
    {
     "name": "stdout",
     "output_type": "stream",
     "text": [
      "2\n",
      " 1  1  1  1 \n",
      " 2  2  2 10 \n"
     ]
    }
   ],
   "source": [
    "#String Formatting\n",
    "def print_formatted(number):\n",
    "    l1=len(bin(number)[2:])\n",
    "    \n",
    "    for i in range(1,number+1):\n",
    "        print(str(i).rjust(l1,' '),end=\" \")\n",
    "        print(oct(i)[2:].rjust(l1,' '),end=\" \")\n",
    "        print(((hex(i)[2:]).upper()).rjust(l1,' '),end=\" \")\n",
    "        print(bin(i)[2:].rjust(l1,' '),end=\" \")\n",
    "        print(\"\")\n",
    "        \n",
    "        \n",
    "\n",
    "if __name__ == '__main__':\n",
    "    n = int(input())\n",
    "    print_formatted(n)"
   ]
  },
  {
   "cell_type": "code",
   "execution_count": 18,
   "id": "6f8425f7",
   "metadata": {},
   "outputs": [
    {
     "name": "stdout",
     "output_type": "stream",
     "text": [
      "5\n",
      "--------e--------\n",
      "------e-d-e------\n",
      "----e-d-c-d-e----\n",
      "--e-d-c-b-c-d-e--\n",
      "e-d-c-b-a-b-c-d-e\n",
      "--e-d-c-b-c-d-e--\n",
      "----e-d-c-d-e----\n",
      "------e-d-e------\n",
      "--------e--------\n"
     ]
    }
   ],
   "source": [
    "#Alphabet Rangoli\n",
    "def print_rangoli(size):\n",
    "   alpha=\"abcdefghijklmnopqrstuvwxyz\"\n",
    "   data=[alpha[i] for i in range(n)]\n",
    "   items=list(range(n))\n",
    "   items=items[:-1]+items[::-1]\n",
    "   for i in items:\n",
    "       temp=data[-(i+1):]\n",
    "       row=temp[::-1]+temp[1:]\n",
    "       print(\"-\".join(row).center(n*4-3, \"-\"))\n",
    "\n",
    "if __name__ == '__main__':\n",
    "    n = int(input())\n",
    "    print_rangoli(n)"
   ]
  },
  {
   "cell_type": "code",
   "execution_count": 9,
   "id": "44f177c9",
   "metadata": {},
   "outputs": [
    {
     "name": "stdout",
     "output_type": "stream",
     "text": [
      "Old String:  hello world\n",
      "Capitalized String: Hello World\n"
     ]
    }
   ],
   "source": [
    "#Capitalize!\n",
    "string = \"hello world\"\n",
    "for i in capitalized_string.split():\n",
    "        capitalized_string = capitalized_string.replace(i,i.capitalize())\n",
    "\n",
    "\n",
    "\n",
    "print('Old String: ', string)\n",
    "print('Capitalized String:', capitalized_string)\n"
   ]
  },
  {
   "cell_type": "code",
   "execution_count": 10,
   "id": "95df5910",
   "metadata": {},
   "outputs": [
    {
     "name": "stdout",
     "output_type": "stream",
     "text": [
      "BANANA\n",
      "Stuart 12\n"
     ]
    }
   ],
   "source": [
    "#The Minion Game\n",
    "def minion_game(s):\n",
    "    vowels='AEIOU'\n",
    "    Stuart_score, Kevin_score=0,0\n",
    "    length=len(s)\n",
    "    for start_idx in range(length):\n",
    "        score=length-start_idx\n",
    "        if s[start_idx] in vowels:\n",
    "            Kevin_score+=score\n",
    "        else:\n",
    "            Stuart_score+=score\n",
    "    if Stuart_score==Kevin_score:\n",
    "        print('Draw')\n",
    "    if(Stuart_score>Kevin_score):\n",
    "        print('Stuart {}'.format(Stuart_score))\n",
    "    if (Stuart_score<Kevin_score):\n",
    "        print('Kevin {}'.format(Kevin_score))\n",
    "\n",
    "if __name__ == '__main__':\n",
    "    s = input()\n",
    "    minion_game(s)"
   ]
  },
  {
   "cell_type": "code",
   "execution_count": 11,
   "id": "845f9348",
   "metadata": {},
   "outputs": [
    {
     "name": "stdout",
     "output_type": "stream",
     "text": [
      "AABCAADBB\n",
      "3\n",
      "AB\n",
      "CA\n",
      "DB\n"
     ]
    }
   ],
   "source": [
    "#Merge the tools\n",
    "def merge_the_tools(string, k):\n",
    "    for part in zip(*[iter(string)]*k):\n",
    "        d=dict()\n",
    "        print(''.join([d.setdefault(c,c) for c in part if c not in d]))\n",
    "if __name__ == '__main__':\n",
    "    string, k = input(), int(input())\n",
    "    merge_the_tools(string, k)"
   ]
  },
  {
   "cell_type": "code",
   "execution_count": 17,
   "id": "5f151355",
   "metadata": {},
   "outputs": [
    {
     "name": "stdout",
     "output_type": "stream",
     "text": [
      "6\n",
      "12 34 45 32 78 53 \n",
      "42.333333333333336\n"
     ]
    }
   ],
   "source": [
    "#Introduction to Sets\n",
    "def average(array):\n",
    "    s=set(array)\n",
    "    return sum(s)/len(s)\n",
    "\n",
    "if __name__ == '__main__':\n",
    "    n = int(input())\n",
    "    arr = list(map(int, input().split()))\n",
    "    result = average(arr)\n",
    "    print(result)"
   ]
  },
  {
   "cell_type": "code",
   "execution_count": 19,
   "id": "ae22c646",
   "metadata": {},
   "outputs": [
    {
     "name": "stdout",
     "output_type": "stream",
     "text": [
      "3 2 \n",
      "1 5 3\n",
      "3 1\n",
      "5 7\n",
      "1\n"
     ]
    }
   ],
   "source": [
    "#No Idea!\n",
    "n,m = map(int,input().split())\n",
    "N = list(map(int,input().split()))\n",
    "A = set(map(int,input().split()))\n",
    "B = set(map(int,input().split()))\n",
    "\n",
    "C = A | B\n",
    "\n",
    "N = (i for i in N if i in C)\n",
    "\n",
    "print(sum(1 if i in A else -1 for i in N ))"
   ]
  },
  {
   "cell_type": "code",
   "execution_count": 20,
   "id": "df0b6739",
   "metadata": {},
   "outputs": [
    {
     "name": "stdout",
     "output_type": "stream",
     "text": [
      "4\n",
      "2 4 5 9\n",
      "4 \n",
      "2 4 8 11\n",
      "5\n",
      "8\n",
      "9\n",
      "11\n"
     ]
    }
   ],
   "source": [
    "#Symmetric Difference\n",
    "a,b=[set(input().split()) for _ in range(4)][1::2]\n",
    "print('\\n'.join(sorted(a^b,key=int)))"
   ]
  },
  {
   "cell_type": "code",
   "execution_count": 23,
   "id": "3110a910",
   "metadata": {},
   "outputs": [
    {
     "name": "stdout",
     "output_type": "stream",
     "text": [
      "5\n",
      "UK\n",
      "china\n",
      "New Zealand\n",
      "UK\n",
      "France\n",
      "4\n"
     ]
    }
   ],
   "source": [
    "#set.add()\n",
    "a=set()\n",
    "[a.add(input()) for _ in range(int(input()))]\n",
    "print(len(a))"
   ]
  },
  {
   "cell_type": "code",
   "execution_count": 24,
   "id": "bd6fc72b",
   "metadata": {},
   "outputs": [
    {
     "name": "stdout",
     "output_type": "stream",
     "text": [
      "9\n",
      "1 2 3 4 5 6 7 8 9\n",
      "10\n",
      "pop\n",
      "remove 9\n",
      "discard 9\n",
      "discard 8\n",
      "remove 7\n",
      "pop\n",
      "discard 6\n",
      "remove 5\n",
      "pop\n",
      "discard 5\n",
      "4\n"
     ]
    }
   ],
   "source": [
    "#Set .discard(), .remove() & .pop()\n",
    "num=int(input())\n",
    "data=set(map(int,input().split()))\n",
    "operations=int(input())\n",
    "\n",
    "for x in range(operations):\n",
    "    oper=input().split()\n",
    "    if oper[0]==\"remove\":\n",
    "        data.remove(int(oper[1]))\n",
    "    elif oper[0]==\"discard\":\n",
    "        data.discard(int(oper[1]))\n",
    "    else:\n",
    "        data.pop()\n",
    "    \n",
    "print(sum(data))"
   ]
  },
  {
   "cell_type": "code",
   "execution_count": 25,
   "id": "26d49e08",
   "metadata": {},
   "outputs": [
    {
     "name": "stdout",
     "output_type": "stream",
     "text": [
      "9\n",
      "1 2 3 4 5 6 7 8 9\n",
      "9\n",
      "10 1 2 3 11 21 55 6 8\n",
      "13\n"
     ]
    }
   ],
   "source": [
    "#Set .union() operation\n",
    "n=int(input())\n",
    "l=list(input().split())\n",
    "m=int(input())\n",
    "k=list(input().split())\n",
    "\n",
    "s1=set(l)\n",
    "s2=set(k)\n",
    "\n",
    "print(len(s1.union(s2)))\n"
   ]
  },
  {
   "cell_type": "code",
   "execution_count": 26,
   "id": "fcbc99ea",
   "metadata": {},
   "outputs": [
    {
     "name": "stdout",
     "output_type": "stream",
     "text": [
      "9\n",
      "1 2 3 4 5 6 7 8 9\n",
      "9\n",
      "10 1 2 3 11 21 55 6 8\n",
      "5\n"
     ]
    }
   ],
   "source": [
    "#Set .intersection() operation\n",
    "num1, st1, num2, st2=(set(input().split()) for i in range(4))\n",
    "print(len(st1.intersection(st2)))"
   ]
  },
  {
   "cell_type": "code",
   "execution_count": 27,
   "id": "66b30ea2",
   "metadata": {},
   "outputs": [
    {
     "name": "stdout",
     "output_type": "stream",
     "text": [
      "9\n",
      "1 2 3 4 5 6 7 8 9\n",
      "9\n",
      "10 1 2 3 11 21 55 6 8\n",
      "4\n"
     ]
    }
   ],
   "source": [
    "#Set .difference Operation\n",
    "n1=int(input())\n",
    "set_1 = set(map(int,input().split()))\n",
    "n2 = int(input())\n",
    "set_2 = set(map(int,input().split()))\n",
    "print(len(set_1-set_2))\n"
   ]
  },
  {
   "cell_type": "code",
   "execution_count": 28,
   "id": "2b176627",
   "metadata": {},
   "outputs": [
    {
     "name": "stdout",
     "output_type": "stream",
     "text": [
      "9\n",
      "1 2 3 4 5 6 7 8 9\n",
      "9 \n",
      "10 1 2 3 11 21 55 6 8\n",
      "8\n"
     ]
    }
   ],
   "source": [
    "#Set .symmetric_difference()\n",
    "_, a=input(), set(input(). split())\n",
    "_, b=input(), set(input().split())\n",
    "print(len(a.symmetric_difference(b)))"
   ]
  },
  {
   "cell_type": "code",
   "execution_count": 29,
   "id": "c5f893f2",
   "metadata": {},
   "outputs": [
    {
     "name": "stdout",
     "output_type": "stream",
     "text": [
      "16\n",
      "1 2 3 4 5 6 7 8 9 10 11 12 13 14 24 52\n",
      "4\n",
      "intersection_update 10\n",
      "2 3 5 6 8 9 1 4 7 11\n",
      "update 2\n",
      "55 66\n",
      "symmetric_difference_update 5\n",
      "22 7 35 55 58 62 66\n",
      "difference_update 7\n",
      "11 22 35 55 58 62 66\n",
      "38\n"
     ]
    }
   ],
   "source": [
    "#Set Mutations\n",
    "_=input()\n",
    "a=set(int(x) for x in input().split(' '))\n",
    "n=int(input())\n",
    "for _ in range(n):\n",
    "    op,_=input().split(' ')\n",
    "    b=set(int(x) for x in input().split(' '))\n",
    "    if op==\"update\":\n",
    "        a|=b\n",
    "    elif op==\"intersection_update\":\n",
    "        a&=b\n",
    "    elif op==\"difference_update\":\n",
    "        a-=b\n",
    "    elif op==\"symmetric_difference_update\":\n",
    "        a^=b\n",
    "print(sum(a))"
   ]
  },
  {
   "cell_type": "code",
   "execution_count": 30,
   "id": "31c6a430",
   "metadata": {},
   "outputs": [
    {
     "name": "stdout",
     "output_type": "stream",
     "text": [
      "5\n",
      "1 2 3 6 5 4 4 2 5 3 6 1 6 5 3 2 4 1 2 5 1 4 3 6 8 4 3 1 5 6 2\n",
      "8\n"
     ]
    }
   ],
   "source": [
    "#The Captains's Room\n",
    "k=int(input())\n",
    "rooms=(int(x) for x in input().split(' '))\n",
    "seen={}\n",
    "\n",
    "for i in rooms:\n",
    "    if not i in seen:\n",
    "        seen[i]=1\n",
    "    else:\n",
    "        seen[i]+=1\n",
    "        \n",
    "for key, val in seen.items():\n",
    "    if val!=k:\n",
    "        print(key)\n",
    "        "
   ]
  },
  {
   "cell_type": "code",
   "execution_count": 32,
   "id": "ef564799",
   "metadata": {},
   "outputs": [
    {
     "name": "stdout",
     "output_type": "stream",
     "text": [
      "3 \n",
      "5\n",
      "1 2 3 5 6\n",
      "9\n",
      "9 8 5 6 3 2 1 4 7\n",
      "True\n",
      "1\n",
      "2\n",
      "5\n",
      "3 6 5 4 1\n",
      "False\n",
      "7\n",
      "1 2 3 5 6 8 9\n",
      "3\n",
      "9 8 2\n",
      "False\n"
     ]
    }
   ],
   "source": [
    "#Check Subset\n",
    "for _ in range(int(input())):\n",
    "    x, a, z, b = input(),set(input().split()), input(), set(input().split())\n",
    "    print(a.issubset(b))"
   ]
  },
  {
   "cell_type": "code",
   "execution_count": 33,
   "id": "f95a0107",
   "metadata": {},
   "outputs": [
    {
     "name": "stdout",
     "output_type": "stream",
     "text": [
      "1 2 3 4 5 6 7 8 9 10 11 12 23 45 84 78\n",
      "2 \n",
      "1 2 3 4 5\n",
      "100 11 12\n",
      "False\n"
     ]
    }
   ],
   "source": [
    "#Check Strict Superset\n",
    "def isstrictsuperset(a,b):\n",
    "    # true if a is a strict superset of b\n",
    "    return b.issubset(a) and not(a.issubset(b))\n",
    "\n",
    "a = set(int(x) for x in input().split(' '))\n",
    "n = int(input())\n",
    "res = True\n",
    "\n",
    "for _ in range(n):\n",
    "    b = set(int(x) for x in input().split(' '))\n",
    "    res &= isstrictsuperset(a,b)\n",
    "    \n",
    "print(res)"
   ]
  },
  {
   "cell_type": "code",
   "execution_count": null,
   "id": "cdc4a942",
   "metadata": {},
   "outputs": [],
   "source": []
  }
 ],
 "metadata": {
  "kernelspec": {
   "display_name": "Python 3",
   "language": "python",
   "name": "python3"
  },
  "language_info": {
   "codemirror_mode": {
    "name": "ipython",
    "version": 3
   },
   "file_extension": ".py",
   "mimetype": "text/x-python",
   "name": "python",
   "nbconvert_exporter": "python",
   "pygments_lexer": "ipython3",
   "version": "3.8.8"
  }
 },
 "nbformat": 4,
 "nbformat_minor": 5
}
